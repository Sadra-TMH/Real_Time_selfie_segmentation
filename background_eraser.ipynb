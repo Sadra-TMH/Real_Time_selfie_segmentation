{
 "cells": [
  {
   "cell_type": "markdown",
   "id": "ca820987",
   "metadata": {},
   "source": [
    "# Imports "
   ]
  },
  {
   "cell_type": "code",
   "execution_count": null,
   "id": "535a4388",
   "metadata": {},
   "outputs": [],
   "source": [
    "import cv2\n",
    "import mediapipe as mp\n",
    "import numpy as np\n",
    "import gradio as gr"
   ]
  },
  {
   "cell_type": "markdown",
   "id": "be60b790",
   "metadata": {},
   "source": [
    "# Segmentation function"
   ]
  },
  {
   "cell_type": "code",
   "execution_count": null,
   "id": "07ae3d36",
   "metadata": {},
   "outputs": [],
   "source": [
    "mp_selfie = mp.solutions.selfie_segmentation"
   ]
  },
  {
   "cell_type": "code",
   "execution_count": null,
   "id": "e9544dfa",
   "metadata": {},
   "outputs": [],
   "source": [
    "def segment(image, background):\n",
    "    # Resize images \n",
    "    background = cv2.resize(background, (640, 480))\n",
    "    image = cv2.resize(image, (640, 480))\n",
    "    \n",
    "    # With state \n",
    "    with mp_selfie.SelfieSegmentation(model_selection=0) as model:\n",
    "        res = model.process(image) # apply segmentation \n",
    "        mask = np.stack((res.segmentation_mask,)*3, axis=-1) > 0.5 # create mask for values over 0.5\n",
    "#         assert(mask.shape == background.shape == image.shape) # check the dimensions\n",
    "        \n",
    "        segmented_image = np.where(mask, image, background.astype(np.uint8)) # apply mask to image over background\n",
    "        return segmented_image \n",
    "        "
   ]
  },
  {
   "cell_type": "markdown",
   "id": "aaa7c999",
   "metadata": {},
   "source": [
    "# Web app using gradio"
   ]
  },
  {
   "cell_type": "code",
   "execution_count": null,
   "id": "4522fa8f",
   "metadata": {},
   "outputs": [],
   "source": [
    "# Create web app with gradio Interface\n",
    "# Pass segment function as function \n",
    "# Two image inputs (Front, background)\n",
    "webapp = gr.interface.Interface(fn=segment, inputs=['image', 'image'], outputs='image')"
   ]
  },
  {
   "cell_type": "code",
   "execution_count": null,
   "id": "e3f9007c",
   "metadata": {},
   "outputs": [],
   "source": [
    "webapp.launch() # launch the app on local "
   ]
  }
 ],
 "metadata": {
  "kernelspec": {
   "display_name": "Python 3 (ipykernel)",
   "language": "python",
   "name": "python3"
  },
  "language_info": {
   "codemirror_mode": {
    "name": "ipython",
    "version": 3
   },
   "file_extension": ".py",
   "mimetype": "text/x-python",
   "name": "python",
   "nbconvert_exporter": "python",
   "pygments_lexer": "ipython3",
   "version": "3.9.7"
  }
 },
 "nbformat": 4,
 "nbformat_minor": 5
}
